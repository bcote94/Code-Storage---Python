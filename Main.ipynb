{
 "cells": [
  {
   "cell_type": "code",
   "execution_count": 2,
   "metadata": {},
   "outputs": [
    {
     "name": "stderr",
     "output_type": "stream",
     "text": [
      "/home/src/Market-Learning/ML/Preprocess.py:203: RuntimeWarning: divide by zero encountered in double_scalars\n",
      "  rs = avgGain[i]/avgLoss[i]\n"
     ]
    },
    {
     "name": "stdout",
     "output_type": "stream",
     "text": [
      "Fitting 5 folds for each of 50 candidates, totalling 250 fits\n"
     ]
    },
    {
     "name": "stderr",
     "output_type": "stream",
     "text": [
      "[Parallel(n_jobs=-1)]: Using backend LokyBackend with 16 concurrent workers.\n",
      "[Parallel(n_jobs=-1)]: Done   9 tasks      | elapsed:    2.2s\n",
      "[Parallel(n_jobs=-1)]: Done  18 tasks      | elapsed:    2.9s\n",
      "[Parallel(n_jobs=-1)]: Done  29 tasks      | elapsed:    4.2s\n",
      "[Parallel(n_jobs=-1)]: Done  40 tasks      | elapsed:    4.7s\n",
      "[Parallel(n_jobs=-1)]: Done  53 tasks      | elapsed:    5.8s\n",
      "[Parallel(n_jobs=-1)]: Done  66 tasks      | elapsed:    6.8s\n",
      "[Parallel(n_jobs=-1)]: Done  81 tasks      | elapsed:    8.2s\n",
      "[Parallel(n_jobs=-1)]: Done  96 tasks      | elapsed:   10.6s\n",
      "[Parallel(n_jobs=-1)]: Done 113 tasks      | elapsed:   11.9s\n",
      "[Parallel(n_jobs=-1)]: Done 130 tasks      | elapsed:   13.3s\n",
      "[Parallel(n_jobs=-1)]: Done 149 tasks      | elapsed:   14.6s\n",
      "[Parallel(n_jobs=-1)]: Done 168 tasks      | elapsed:   16.1s\n",
      "[Parallel(n_jobs=-1)]: Done 189 tasks      | elapsed:   18.0s\n",
      "[Parallel(n_jobs=-1)]: Done 210 tasks      | elapsed:   20.3s\n",
      "[Parallel(n_jobs=-1)]: Done 245 out of 250 | elapsed:   22.6s remaining:    0.5s\n",
      "[Parallel(n_jobs=-1)]: Done 250 out of 250 | elapsed:   24.8s finished\n"
     ]
    },
    {
     "name": "stdout",
     "output_type": "stream",
     "text": [
      "Best Estimators Through Random Grid Search:\n",
      "{'n_estimators': 87, 'min_samples_split': 15, 'min_samples_leaf': 2, 'max_features': None, 'max_depth': 1, 'bootstrap': True}\n",
      "\n",
      "\n",
      "..............................\n",
      "Tuned Random Forest Ensemble Output:\n",
      "..............................\n",
      "Validation Set 0 score: 0.7969543147208121\n",
      "Validation Set 1 score: 0.7868020304568528\n",
      "Validation Set 2 score: 0.8163265306122449\n",
      "Validation Set 3 score: 0.8214285714285714\n",
      "Validation Set 4 score: 0.7806122448979592\n",
      "\n",
      "\n",
      "BUY BUY BUY\n"
     ]
    }
   ],
   "source": [
    "from dateutil.relativedelta import relativedelta\n",
    "from ML.Predict import Stock_Predict\n",
    "import datetime\n",
    "import json\n",
    "import os\n",
    "\n",
    "stock = 'AMD'\n",
    "hyper_param_path = '/home/data/hyper_parameters.json'\n",
    "cross_validation_params = {'n_iter':50, 'cv':5}\n",
    "if os.path.isfile(hyper_param_path):\n",
    "    with open(hyper_param_path) as hyper_params:\n",
    "        hyper_parameters = json.loads(hyper_params.read())\n",
    "else:\n",
    "    hyper_parameters = None\n",
    "    \n",
    "params = {'start_date':(datetime.datetime.today() - relativedelta(years=4)).strftime('%d-%m-%Y'),\n",
    "          'end_date':datetime.datetime.today().strftime('%d-%m-%Y'),\n",
    "          'cross_validate':True,\n",
    "          'idx_days_back':90,\n",
    "          'stock_days_back':5,\n",
    "          'pred_window':20,\n",
    "          'index_ticker':'SPY',\n",
    "          'stock':stock,\n",
    "          'hyper_parameters':hyper_parameters, #Requires a dict argument iff cross_validate is true\n",
    "          'scoring':'average_precision',\n",
    "          'cross_validation_params':cross_validation_params}\n",
    "\n",
    "Stock_Predict(params).predict()"
   ]
  },
  {
   "cell_type": "code",
   "execution_count": null,
   "metadata": {},
   "outputs": [],
   "source": []
  }
 ],
 "metadata": {
  "kernelspec": {
   "display_name": "Python 3",
   "language": "python",
   "name": "python3"
  },
  "language_info": {
   "codemirror_mode": {
    "name": "ipython",
    "version": 3
   },
   "file_extension": ".py",
   "mimetype": "text/x-python",
   "name": "python",
   "nbconvert_exporter": "python",
   "pygments_lexer": "ipython3",
   "version": "3.7.3"
  }
 },
 "nbformat": 4,
 "nbformat_minor": 4
}
