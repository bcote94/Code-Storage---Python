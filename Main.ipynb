{
 "cells": [
  {
   "cell_type": "code",
   "execution_count": 1,
   "metadata": {},
   "outputs": [
    {
     "ename": "TypeError",
     "evalue": "'module' object is not callable",
     "output_type": "error",
     "traceback": [
      "\u001b[0;31m---------------------------------------------------------------------------\u001b[0m",
      "\u001b[0;31mTypeError\u001b[0m                                 Traceback (most recent call last)",
      "\u001b[0;32m<ipython-input-1-76e6ce9d78e7>\u001b[0m in \u001b[0;36m<module>\u001b[0;34m\u001b[0m\n\u001b[1;32m     16\u001b[0m \u001b[0mhyper_param_path\u001b[0m \u001b[0;34m=\u001b[0m \u001b[0;34m'/home/data/hyper_parameters.json'\u001b[0m\u001b[0;34m\u001b[0m\u001b[0;34m\u001b[0m\u001b[0m\n\u001b[1;32m     17\u001b[0m \u001b[0mcross_validation_params\u001b[0m \u001b[0;34m=\u001b[0m \u001b[0;34m{\u001b[0m\u001b[0;34m'n_iter'\u001b[0m\u001b[0;34m:\u001b[0m\u001b[0;36m50\u001b[0m\u001b[0;34m,\u001b[0m \u001b[0;34m'cv'\u001b[0m\u001b[0;34m:\u001b[0m\u001b[0;36m5\u001b[0m\u001b[0;34m}\u001b[0m\u001b[0;34m\u001b[0m\u001b[0;34m\u001b[0m\u001b[0m\n\u001b[0;32m---> 18\u001b[0;31m \u001b[0;32mif\u001b[0m \u001b[0mos\u001b[0m\u001b[0;34m.\u001b[0m\u001b[0mpath\u001b[0m\u001b[0;34m(\u001b[0m\u001b[0mhyper_param_path\u001b[0m\u001b[0;34m)\u001b[0m\u001b[0;34m:\u001b[0m\u001b[0;34m\u001b[0m\u001b[0;34m\u001b[0m\u001b[0m\n\u001b[0m\u001b[1;32m     19\u001b[0m     \u001b[0;32mwith\u001b[0m \u001b[0mopen\u001b[0m\u001b[0;34m(\u001b[0m\u001b[0mhyper_param_path\u001b[0m\u001b[0;34m)\u001b[0m \u001b[0;32mas\u001b[0m \u001b[0mhyper_params\u001b[0m\u001b[0;34m:\u001b[0m\u001b[0;34m\u001b[0m\u001b[0;34m\u001b[0m\u001b[0m\n\u001b[1;32m     20\u001b[0m         \u001b[0mhyper_parameters\u001b[0m \u001b[0;34m=\u001b[0m \u001b[0mjson\u001b[0m\u001b[0;34m.\u001b[0m\u001b[0mloads\u001b[0m\u001b[0;34m(\u001b[0m\u001b[0mhyper_params\u001b[0m\u001b[0;34m.\u001b[0m\u001b[0mread\u001b[0m\u001b[0;34m(\u001b[0m\u001b[0;34m)\u001b[0m\u001b[0;34m)\u001b[0m\u001b[0;34m\u001b[0m\u001b[0;34m\u001b[0m\u001b[0m\n",
      "\u001b[0;31mTypeError\u001b[0m: 'module' object is not callable"
     ]
    }
   ],
   "source": [
    "# -*- coding: utf-8 -*-\n",
    "\"\"\"\n",
    "Created on Fri Oct 11 20:05:43 2019\n",
    "\n",
    "@author: Brian Cote\n",
    "\"\"\"\n",
    "#See __init__ for instructions, use cases\n",
    "\n",
    "from dateutil.relativedelta import relativedelta\n",
    "from ML.Predict import Stock_Predict\n",
    "import datetime\n",
    "import json\n",
    "import os\n",
    "\n",
    "stock = 'AMD'\n",
    "hyper_param_path = '/home/data/hyper_parameters.json'\n",
    "cross_validation_params = {'n_iter':50, 'cv':5}\n",
    "if os.path.isfile(hyper_param_path):\n",
    "    with open(hyper_param_path) as hyper_params:\n",
    "        hyper_parameters = json.loads(hyper_params.read())\n",
    "else:\n",
    "    hyper_parameters = None\n",
    "    \n",
    "params = {'start_date':(datetime.datetime.today() - relativedelta(years=4)).strftime('%d-%m-%Y'),\n",
    "          'end_date':datetime.datetime.today().strftime('%d-%m-%Y'),\n",
    "          'cross_validate':True,\n",
    "          'idx_days_back':90,\n",
    "          'stock_days_back':5,\n",
    "          'pred_window':20,\n",
    "          'index_ticker':'SPY',\n",
    "          'stock':stock,\n",
    "          'hyper_parameters':hyper_parameters, #Requires a dict argument iff cross_validate is true\n",
    "          'scoring':'average_precision',\n",
    "          'cross_validation_params':cross_validation_params}\n",
    "\n",
    "preds = Stock_Predict(params).predict()"
   ]
  },
  {
   "cell_type": "code",
   "execution_count": null,
   "metadata": {},
   "outputs": [],
   "source": []
  }
 ],
 "metadata": {
  "kernelspec": {
   "display_name": "Python 3",
   "language": "python",
   "name": "python3"
  },
  "language_info": {
   "codemirror_mode": {
    "name": "ipython",
    "version": 3
   },
   "file_extension": ".py",
   "mimetype": "text/x-python",
   "name": "python",
   "nbconvert_exporter": "python",
   "pygments_lexer": "ipython3",
   "version": "3.7.3"
  }
 },
 "nbformat": 4,
 "nbformat_minor": 4
}
