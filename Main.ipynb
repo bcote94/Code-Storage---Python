{
 "cells": [
  {
   "cell_type": "code",
   "execution_count": 1,
   "metadata": {},
   "outputs": [
    {
     "name": "stderr",
     "output_type": "stream",
     "text": [
      "/home/src/Market-Learning/ML/Preprocess.py:199: RuntimeWarning: divide by zero encountered in double_scalars\n",
      "  rs = avgGain[i]/avgLoss[i]\n"
     ]
    },
    {
     "name": "stdout",
     "output_type": "stream",
     "text": [
      "Initialized\n",
      "CV Complete\n",
      "Fitting 5 folds for each of 50 candidates, totalling 250 fits\n"
     ]
    },
    {
     "name": "stderr",
     "output_type": "stream",
     "text": [
      "[Parallel(n_jobs=-1)]: Using backend LokyBackend with 16 concurrent workers.\n",
      "[Parallel(n_jobs=-1)]: Done   9 tasks      | elapsed:    2.5s\n",
      "[Parallel(n_jobs=-1)]: Done  18 tasks      | elapsed:    3.1s\n",
      "[Parallel(n_jobs=-1)]: Done  29 tasks      | elapsed:    4.0s\n",
      "[Parallel(n_jobs=-1)]: Done  40 tasks      | elapsed:    4.3s\n",
      "[Parallel(n_jobs=-1)]: Done  53 tasks      | elapsed:    4.5s\n",
      "[Parallel(n_jobs=-1)]: Done  66 tasks      | elapsed:    5.7s\n",
      "[Parallel(n_jobs=-1)]: Done  81 tasks      | elapsed:    6.9s\n",
      "[Parallel(n_jobs=-1)]: Done  96 tasks      | elapsed:    8.9s\n",
      "[Parallel(n_jobs=-1)]: Done 113 tasks      | elapsed:   12.6s\n",
      "[Parallel(n_jobs=-1)]: Done 130 tasks      | elapsed:   15.0s\n",
      "[Parallel(n_jobs=-1)]: Done 149 tasks      | elapsed:   17.1s\n",
      "[Parallel(n_jobs=-1)]: Done 168 tasks      | elapsed:   18.0s\n",
      "[Parallel(n_jobs=-1)]: Done 189 tasks      | elapsed:   19.2s\n",
      "[Parallel(n_jobs=-1)]: Done 210 tasks      | elapsed:   21.1s\n",
      "[Parallel(n_jobs=-1)]: Done 245 out of 250 | elapsed:   23.8s remaining:    0.5s\n",
      "[Parallel(n_jobs=-1)]: Done 250 out of 250 | elapsed:   26.7s finished\n"
     ]
    },
    {
     "name": "stdout",
     "output_type": "stream",
     "text": [
      "Best Estimators Through Random Grid Search:\n",
      "{'n_estimators': 61, 'min_samples_split': 15, 'min_samples_leaf': 5, 'max_features': None, 'max_depth': None, 'bootstrap': True}\n",
      "\n",
      "\n",
      "..............................\n",
      "Tuned Random Forest Ensemble Output:\n",
      "..............................\n",
      "Validation Set 0 score: 0.820037677488297\n",
      "Validation Set 1 score: 0.8776062189140619\n",
      "Validation Set 2 score: 0.9408155683893961\n",
      "Validation Set 3 score: 0.91644632511954\n",
      "Validation Set 4 score: 0.8775401240286567\n",
      "\n",
      "\n",
      "REPLY HAZY. TRY AGAIN LATER.\n"
     ]
    },
    {
     "ename": "NameError",
     "evalue": "name 'pd' is not defined",
     "output_type": "error",
     "traceback": [
      "\u001b[0;31m---------------------------------------------------------------------------\u001b[0m",
      "\u001b[0;31mNameError\u001b[0m                                 Traceback (most recent call last)",
      "\u001b[0;32m<ipython-input-1-44165cb2004e>\u001b[0m in \u001b[0;36m<module>\u001b[0;34m\u001b[0m\n\u001b[1;32m     16\u001b[0m \u001b[0mstock\u001b[0m \u001b[0;34m=\u001b[0m \u001b[0;34m'AMD'\u001b[0m\u001b[0;34m\u001b[0m\u001b[0;34m\u001b[0m\u001b[0m\n\u001b[1;32m     17\u001b[0m \u001b[0;34m\u001b[0m\u001b[0m\n\u001b[0;32m---> 18\u001b[0;31m \u001b[0mpreds\u001b[0m \u001b[0;34m=\u001b[0m \u001b[0mStock_Predict\u001b[0m\u001b[0;34m(\u001b[0m\u001b[0mstart_date\u001b[0m\u001b[0;34m,\u001b[0m \u001b[0mend_date\u001b[0m\u001b[0;34m,\u001b[0m \u001b[0mstock\u001b[0m\u001b[0;34m,\u001b[0m \u001b[0mcv\u001b[0m\u001b[0;34m=\u001b[0m\u001b[0;32mTrue\u001b[0m\u001b[0;34m)\u001b[0m\u001b[0;34m.\u001b[0m\u001b[0mpredict\u001b[0m\u001b[0;34m(\u001b[0m\u001b[0;34m)\u001b[0m\u001b[0;34m\u001b[0m\u001b[0;34m\u001b[0m\u001b[0m\n\u001b[0m",
      "\u001b[0;32m/home/src/Market-Learning/ML/Predict.py\u001b[0m in \u001b[0;36mpredict\u001b[0;34m(self)\u001b[0m\n\u001b[1;32m     30\u001b[0m         \u001b[0;32melse\u001b[0m\u001b[0;34m:\u001b[0m\u001b[0;34m\u001b[0m\u001b[0;34m\u001b[0m\u001b[0m\n\u001b[1;32m     31\u001b[0m             \u001b[0mprint\u001b[0m\u001b[0;34m(\u001b[0m\u001b[0;34m\"REPLY HAZY. TRY AGAIN LATER.\"\u001b[0m\u001b[0;34m)\u001b[0m\u001b[0;34m\u001b[0m\u001b[0;34m\u001b[0m\u001b[0m\n\u001b[0;32m---> 32\u001b[0;31m             \u001b[0mprint\u001b[0m\u001b[0;34m(\u001b[0m\u001b[0mpd\u001b[0m\u001b[0;34m.\u001b[0m\u001b[0mSeries\u001b[0m\u001b[0;34m(\u001b[0m\u001b[0mrf_pred\u001b[0m\u001b[0;34m)\u001b[0m\u001b[0;34m.\u001b[0m\u001b[0mvalue_counts\u001b[0m\u001b[0;34m(\u001b[0m\u001b[0;34m)\u001b[0m\u001b[0;34m)\u001b[0m\u001b[0;34m\u001b[0m\u001b[0;34m\u001b[0m\u001b[0m\n\u001b[0m\u001b[1;32m     33\u001b[0m \u001b[0;34m\u001b[0m\u001b[0m\n\u001b[1;32m     34\u001b[0m \u001b[0;34m\u001b[0m\u001b[0m\n",
      "\u001b[0;31mNameError\u001b[0m: name 'pd' is not defined"
     ]
    }
   ],
   "source": [
    "# -*- coding: utf-8 -*-\n",
    "\"\"\"\n",
    "Created on Fri Oct 11 20:05:43 2019\n",
    "\n",
    "@author: Brian Cote\n",
    "\"\"\"\n",
    "#See __init__ for instructions, use cases\n",
    "\n",
    "from ML.Predict import Stock_Predict\n",
    "import datetime\n",
    "from dateutil.relativedelta import relativedelta\n",
    "\n",
    "date = datetime.datetime.today()\n",
    "start_date = (date - relativedelta(years=4)).strftime('%d-%m-%Y')\n",
    "end_date = datetime.datetime.today().strftime('%d-%m-%Y')\n",
    "stock = 'AMD'\n",
    "\n",
    "preds = Stock_Predict(start_date, end_date, stock, cv=True).predict()"
   ]
  }
 ],
 "metadata": {
  "kernelspec": {
   "display_name": "Python 3",
   "language": "python",
   "name": "python3"
  },
  "language_info": {
   "codemirror_mode": {
    "name": "ipython",
    "version": 3
   },
   "file_extension": ".py",
   "mimetype": "text/x-python",
   "name": "python",
   "nbconvert_exporter": "python",
   "pygments_lexer": "ipython3",
   "version": "3.7.3"
  }
 },
 "nbformat": 4,
 "nbformat_minor": 4
}
