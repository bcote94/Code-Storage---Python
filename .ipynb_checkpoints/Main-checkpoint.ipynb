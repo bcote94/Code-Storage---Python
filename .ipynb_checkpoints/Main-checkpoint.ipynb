{
 "cells": [
  {
   "cell_type": "code",
   "execution_count": 1,
   "metadata": {},
   "outputs": [
    {
     "name": "stderr",
     "output_type": "stream",
     "text": [
      "/home/src/Market-Learning/ML/Preprocess.py:199: RuntimeWarning: divide by zero encountered in double_scalars\n",
      "  rs = avgGain[i]/avgLoss[i]\n"
     ]
    },
    {
     "name": "stdout",
     "output_type": "stream",
     "text": [
      "Initialized\n",
      "CV Complete\n",
      "Fitting 5 folds for each of 10 candidates, totalling 50 fits\n"
     ]
    },
    {
     "name": "stderr",
     "output_type": "stream",
     "text": [
      "[Parallel(n_jobs=-1)]: Using backend LokyBackend with 16 concurrent workers.\n",
      "[Parallel(n_jobs=-1)]: Done   9 tasks      | elapsed:    2.2s\n",
      "[Parallel(n_jobs=-1)]: Done  18 tasks      | elapsed:    2.8s\n",
      "[Parallel(n_jobs=-1)]: Done  25 out of  50 | elapsed:    3.7s remaining:    3.7s\n",
      "[Parallel(n_jobs=-1)]: Done  31 out of  50 | elapsed:    4.1s remaining:    2.5s\n",
      "[Parallel(n_jobs=-1)]: Done  37 out of  50 | elapsed:    4.4s remaining:    1.5s\n",
      "[Parallel(n_jobs=-1)]: Done  43 out of  50 | elapsed:    4.9s remaining:    0.8s\n",
      "[Parallel(n_jobs=-1)]: Done  50 out of  50 | elapsed:    5.9s finished\n",
      "/opt/conda/lib/python3.7/site-packages/sklearn/model_selection/_search.py:814: DeprecationWarning: The default of the `iid` parameter will change from True to False in version 0.22 and will be removed in 0.24. This will change numeric results when test-set sizes are unequal.\n",
      "  DeprecationWarning)\n"
     ]
    },
    {
     "name": "stdout",
     "output_type": "stream",
     "text": [
      "Best Estimators Through Random Grid Search:\n",
      "{'n_estimators': 216, 'min_samples_split': 2, 'min_samples_leaf': 5, 'max_features': None, 'max_depth': 1, 'bootstrap': True}\n",
      "\n",
      "\n",
      "..............................\n",
      "Tuned Random Forest Ensemble Output:\n",
      "..............................\n",
      "Validation Set 0 score: 0.8617504102760232\n",
      "Validation Set 1 score: 0.7336493539355966\n",
      "Validation Set 2 score: 0.7441004328247021\n",
      "Validation Set 3 score: 0.8642041786149666\n",
      "Validation Set 4 score: 0.8530272850096108\n",
      "\n",
      "\n",
      "BEAR GANG BEAR GANG\n"
     ]
    }
   ],
   "source": [
    "# -*- coding: utf-8 -*-\n",
    "\"\"\"\n",
    "Created on Fri Oct 11 20:05:43 2019\n",
    "\n",
    "@author: Brian Cote\n",
    "\"\"\"\n",
    "#See __init__ for instructions, use cases\n",
    "\n",
    "from ML.Predict import Stock_Predict\n",
    "import datetime\n",
    "from dateutil.relativedelta import relativedelta\n",
    "\n",
    "date = datetime.datetime.today()\n",
    "start_date = (date - relativedelta(years=4)).strftime('%d-%m-%Y')\n",
    "end_date = datetime.datetime.today().strftime('%d-%m-%Y')\n",
    "stock = 'AMD'\n",
    "\n",
    "preds = Stock_Predict(start_date, end_date, stock, cv=True).predict()"
   ]
  }
 ],
 "metadata": {
  "kernelspec": {
   "display_name": "Python 3",
   "language": "python",
   "name": "python3"
  },
  "language_info": {
   "codemirror_mode": {
    "name": "ipython",
    "version": 3
   },
   "file_extension": ".py",
   "mimetype": "text/x-python",
   "name": "python",
   "nbconvert_exporter": "python",
   "pygments_lexer": "ipython3",
   "version": "3.7.3"
  }
 },
 "nbformat": 4,
 "nbformat_minor": 4
}
