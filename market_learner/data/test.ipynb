{
 "cells": [
  {
   "cell_type": "code",
   "execution_count": 1,
   "metadata": {
    "collapsed": true
   },
   "outputs": [
    {
     "name": "stdout",
     "output_type": "stream",
     "text": [
      "[2021-03-13 23:21:10] [1064] [get_data] [DEBUG] - Gathering daily stock data for GME from 2013-03-15 00:00:00 to 2021-03-13 00:00:00\n"
     ]
    },
    {
     "data": {
      "text/plain": "                 Close        High         Low        Open      Volume\nDate                                                                  \n2013-03-15   25.450001   25.480000   24.959999   25.330000   2605700.0\n2013-03-18   25.719999   25.799999   25.170000   25.170000   1454500.0\n2013-03-19   25.240000   25.780001   24.889999   25.780001   1294300.0\n2013-03-20   25.450001   25.520000   25.040001   25.389999   1829600.0\n2013-03-21   25.240000   25.670000   25.010000   25.350000   1893000.0\n...                ...         ...         ...         ...         ...\n2021-03-08  194.500000  210.869995  146.100006  154.889999  63424800.0\n2021-03-09  246.899994  249.850006  208.509995  217.710007  38725800.0\n2021-03-10  265.000000  348.500000  172.000000  269.429993  71361900.0\n2021-03-11  260.000000  281.500000  232.600006  241.639999  28186000.0\n2021-03-12  264.500000  295.500000  262.269989  275.000000  25760700.0\n\n[2013 rows x 5 columns]",
      "text/html": "<div>\n<style scoped>\n    .dataframe tbody tr th:only-of-type {\n        vertical-align: middle;\n    }\n\n    .dataframe tbody tr th {\n        vertical-align: top;\n    }\n\n    .dataframe thead th {\n        text-align: right;\n    }\n</style>\n<table border=\"1\" class=\"dataframe\">\n  <thead>\n    <tr style=\"text-align: right;\">\n      <th></th>\n      <th>Close</th>\n      <th>High</th>\n      <th>Low</th>\n      <th>Open</th>\n      <th>Volume</th>\n    </tr>\n    <tr>\n      <th>Date</th>\n      <th></th>\n      <th></th>\n      <th></th>\n      <th></th>\n      <th></th>\n    </tr>\n  </thead>\n  <tbody>\n    <tr>\n      <th>2013-03-15</th>\n      <td>25.450001</td>\n      <td>25.480000</td>\n      <td>24.959999</td>\n      <td>25.330000</td>\n      <td>2605700.0</td>\n    </tr>\n    <tr>\n      <th>2013-03-18</th>\n      <td>25.719999</td>\n      <td>25.799999</td>\n      <td>25.170000</td>\n      <td>25.170000</td>\n      <td>1454500.0</td>\n    </tr>\n    <tr>\n      <th>2013-03-19</th>\n      <td>25.240000</td>\n      <td>25.780001</td>\n      <td>24.889999</td>\n      <td>25.780001</td>\n      <td>1294300.0</td>\n    </tr>\n    <tr>\n      <th>2013-03-20</th>\n      <td>25.450001</td>\n      <td>25.520000</td>\n      <td>25.040001</td>\n      <td>25.389999</td>\n      <td>1829600.0</td>\n    </tr>\n    <tr>\n      <th>2013-03-21</th>\n      <td>25.240000</td>\n      <td>25.670000</td>\n      <td>25.010000</td>\n      <td>25.350000</td>\n      <td>1893000.0</td>\n    </tr>\n    <tr>\n      <th>...</th>\n      <td>...</td>\n      <td>...</td>\n      <td>...</td>\n      <td>...</td>\n      <td>...</td>\n    </tr>\n    <tr>\n      <th>2021-03-08</th>\n      <td>194.500000</td>\n      <td>210.869995</td>\n      <td>146.100006</td>\n      <td>154.889999</td>\n      <td>63424800.0</td>\n    </tr>\n    <tr>\n      <th>2021-03-09</th>\n      <td>246.899994</td>\n      <td>249.850006</td>\n      <td>208.509995</td>\n      <td>217.710007</td>\n      <td>38725800.0</td>\n    </tr>\n    <tr>\n      <th>2021-03-10</th>\n      <td>265.000000</td>\n      <td>348.500000</td>\n      <td>172.000000</td>\n      <td>269.429993</td>\n      <td>71361900.0</td>\n    </tr>\n    <tr>\n      <th>2021-03-11</th>\n      <td>260.000000</td>\n      <td>281.500000</td>\n      <td>232.600006</td>\n      <td>241.639999</td>\n      <td>28186000.0</td>\n    </tr>\n    <tr>\n      <th>2021-03-12</th>\n      <td>264.500000</td>\n      <td>295.500000</td>\n      <td>262.269989</td>\n      <td>275.000000</td>\n      <td>25760700.0</td>\n    </tr>\n  </tbody>\n</table>\n<p>2013 rows × 5 columns</p>\n</div>"
     },
     "execution_count": 1,
     "metadata": {},
     "output_type": "execute_result"
    }
   ],
   "source": [
    "import get_data\n",
    "import pandas as pd\n",
    "\n",
    "df = get_data.read_yahoo_data('GME')\n",
    "df"
   ]
  },
  {
   "cell_type": "code",
   "execution_count": 2,
   "outputs": [
    {
     "data": {
      "text/plain": "Close          2.80\nHigh           2.94\nLow            2.57\nOpen           2.85\nVolume    626000.00\ndtype: float64"
     },
     "execution_count": 2,
     "metadata": {},
     "output_type": "execute_result"
    }
   ],
   "source": [
    "df.min()"
   ],
   "metadata": {
    "collapsed": false,
    "pycharm": {
     "name": "#%%\n"
    }
   }
  }
 ],
 "metadata": {
  "kernelspec": {
   "display_name": "Python 3",
   "language": "python",
   "name": "python3"
  },
  "language_info": {
   "codemirror_mode": {
    "name": "ipython",
    "version": 2
   },
   "file_extension": ".py",
   "mimetype": "text/x-python",
   "name": "python",
   "nbconvert_exporter": "python",
   "pygments_lexer": "ipython2",
   "version": "2.7.6"
  }
 },
 "nbformat": 4,
 "nbformat_minor": 0
}