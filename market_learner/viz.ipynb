{
 "cells": [
  {
   "cell_type": "code",
   "execution_count": null,
   "metadata": {
    "collapsed": true,
    "pycharm": {
     "is_executing": true
    }
   },
   "outputs": [
    {
     "name": "stdout",
     "output_type": "stream",
     "text": [
      "[2021-03-15 01:04:09] [1882] [data.data_reader] [DEBUG] - Gathering daily stock data for NVDA from 2013-03-17 00:00:00 to 2021-03-15 00:00:00\n",
      "[2021-03-15 01:04:09] [1882] [data.data_reader] [DEBUG] - Gathering daily stock data for SPY from 2013-03-17 00:00:00 to 2021-03-15 00:00:00\n"
     ]
    }
   ],
   "source": [
    "import matplotlib.pyplot as plt\n",
    "import pandas as pd\n",
    "import numpy as np\n",
    "import app\n",
    "\n",
    "data, pred = app.run('NVDA')\n",
    "test = data.iloc[-1*len(pred):, :]"
   ]
  },
  {
   "cell_type": "code",
   "execution_count": null,
   "outputs": [],
   "source": [
    "def rolling_average(data):\n",
    "    tick = data.Close.loc[:,]\n",
    "\n",
    "    # Calculate the moving averages of the closing prices\n",
    "    monthly_rolling = tick.rolling(window=20).mean()\n",
    "    quarter_rolling = tick.rolling(window=90).mean()\n",
    "    yearly_rolling = tick.rolling(window=270).mean()\n",
    "\n",
    "    fig, ax = plt.subplots(figsize=(16,9))    \n",
    "\n",
    "    plt.plot(tick.index, tick)\n",
    "    plt.plot(monthly_rolling.index, monthly_rolling, label='Monthly Rolling Average')\n",
    "    plt.plot(quarter_rolling.index, quarter_rolling, label='Quarterly Rolling Average')\n",
    "    plt.plot(yearly_rolling.index, yearly_rolling, label='Yearly Rolling Average')\n",
    "\n",
    "    ax.set_xlabel('Date')\n",
    "    ax.set_ylabel('Adjusted closing price ($)')\n",
    "    ax.legend()\n",
    "    plt.rc('grid',linestyle='dashdot')\n",
    "    plt.grid()  \n",
    "\n",
    "rolling_average(data)\n"
   ],
   "metadata": {
    "collapsed": false,
    "pycharm": {
     "name": "#%%\n",
     "is_executing": true
    }
   }
  },
  {
   "cell_type": "code",
   "execution_count": null,
   "outputs": [],
   "source": [
    "def trading_strategy(pred, equity):\n",
    "    #x and y coords appropriately\n",
    "    x = [equity.index[i] for i in range(0,len(equity),20)]\n",
    "    y = [equity.Close[i] for i in range(0,len(equity),20)]\n",
    "    y_pred = [pred[i] for i in range(0,len(pred),20)]\n",
    "    #Color Mapping\n",
    "    colorMap = {-1.0:\"r\",1.0:\"b\",0.0:\"y\"}\n",
    "    c = [colorMap[y_pred[i]] for i in range(len(y_pred))]\n",
    "    #c.append('r')\n",
    "\n",
    "    #Setting up plot and Closing Prices\n",
    "    fig, ax = plt.subplots(figsize=(16,9))\n",
    "    plt.plot()\n",
    "    plt.plot(equity.Close, c = \"g\")\n",
    "\n",
    "    #Scatter\n",
    "    plt.scatter(x,y, c=c, s=55)\n",
    "\n",
    "    #Labels\n",
    "    ax.set_xlabel('Date')\n",
    "    ax.set_ylabel('Closing price ($)')\n",
    "    ax.legend()\n",
    "    plt.rc('grid',linestyle='dashdot')\n",
    "    plt.grid()  \n",
    "    plt.show()\n",
    "    return 1\n",
    "\n",
    "trading_strategy(pred, test)"
   ],
   "metadata": {
    "collapsed": false,
    "pycharm": {
     "name": "#%%\n",
     "is_executing": true
    }
   }
  }
 ],
 "metadata": {
  "kernelspec": {
   "display_name": "Python 3",
   "language": "python",
   "name": "python3"
  },
  "language_info": {
   "codemirror_mode": {
    "name": "ipython",
    "version": 2
   },
   "file_extension": ".py",
   "mimetype": "text/x-python",
   "name": "python",
   "nbconvert_exporter": "python",
   "pygments_lexer": "ipython2",
   "version": "2.7.6"
  }
 },
 "nbformat": 4,
 "nbformat_minor": 0
}